{
  "nbformat": 4,
  "nbformat_minor": 0,
  "metadata": {
    "colab": {
      "name": "Collatz_conjecture.ipynb",
      "provenance": [],
      "mount_file_id": "1O3Gk5YsHAOEQtd4qRSNzfbXNDJVlzPCr",
      "authorship_tag": "ABX9TyMcX5ziBLeRWERlA9jYc6ww",
      "include_colab_link": true
    },
    "kernelspec": {
      "name": "python3",
      "display_name": "Python 3"
    }
  },
  "cells": [
    {
      "cell_type": "markdown",
      "metadata": {
        "id": "view-in-github",
        "colab_type": "text"
      },
      "source": [
        "<a href=\"https://colab.research.google.com/github/DuccioRuozzi93/Collatz_conjecture/blob/master/Collatz_conjecture.ipynb\" target=\"_parent\"><img src=\"https://colab.research.google.com/assets/colab-badge.svg\" alt=\"Open In Colab\"/></a>"
      ]
    },
    {
      "cell_type": "code",
      "metadata": {
        "id": "YSBWtJ5LjfQ9",
        "colab_type": "code",
        "colab": {}
      },
      "source": [
        "#Collatz conjecture\n",
        "import sys\n",
        "def collatz(number):\n",
        "  if number%2==0:\n",
        "    print(number//2)\n",
        "    return number//2\n",
        "  else:\n",
        "    print(3*number+1)\n",
        "    return 3*number+1\n",
        "while True:\n",
        "  print(\"Type 'end' to end the program.\")\n",
        "  a=input(\"Insert a positive integer: \")\n",
        "  if a==\"end\":\n",
        "    break\n",
        "    sys.exit()\n",
        "  try:\n",
        "    a=int(a)\n",
        "    while collatz(a)!=1:\n",
        "      a=collatz(a)    \n",
        "  except ValueError:\n",
        "      print(\"I want a POSITIVE INTEGER!\")\n",
        "      continue"
      ],
      "execution_count": null,
      "outputs": []
    }
  ]
}